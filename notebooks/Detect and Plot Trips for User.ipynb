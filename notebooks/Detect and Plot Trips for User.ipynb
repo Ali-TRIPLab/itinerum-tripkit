{
 "cells": [
  {
   "cell_type": "code",
   "execution_count": 1,
   "metadata": {},
   "outputs": [],
   "source": [
    "# change to parent directory for importing library -- only run this once!\n",
    "import os\n",
    "import sys\n",
    "module_path = os.path.abspath(os.path.join('..'))\n",
    "os.chdir(module_path)"
   ]
  },
  {
   "cell_type": "code",
   "execution_count": 2,
   "metadata": {},
   "outputs": [],
   "source": [
    "# -- Notebook start\n",
    "from datakit import Itinerum\n",
    "import datakit_config"
   ]
  },
  {
   "cell_type": "code",
   "execution_count": 3,
   "metadata": {},
   "outputs": [],
   "source": [
    "itinerum = Itinerum(config=datakit_config)"
   ]
  },
  {
   "cell_type": "code",
   "execution_count": 4,
   "metadata": {},
   "outputs": [],
   "source": [
    "# Read .csvs defined in config if not already available\n",
    "itinerum.setup(force=False)"
   ]
  },
  {
   "cell_type": "code",
   "execution_count": 24,
   "metadata": {},
   "outputs": [
    {
     "name": "stderr",
     "output_type": "stream",
     "text": [
      "INFO:datakit.main:Loading user from database: 1/19...\n",
      "INFO:datakit.main:Loading user from database: 2/19...\n",
      "INFO:datakit.main:Loading user from database: 3/19...\n",
      "INFO:datakit.main:Loading user from database: 4/19...\n",
      "INFO:datakit.main:Loading user from database: 5/19...\n",
      "INFO:datakit.main:Loading user from database: 6/19...\n",
      "INFO:datakit.main:Loading user from database: 7/19...\n",
      "INFO:datakit.main:Loading user from database: 8/19...\n",
      "INFO:datakit.main:Loading user from database: 9/19...\n",
      "INFO:datakit.main:Loading user from database: 10/19...\n",
      "INFO:datakit.main:Loading user from database: 11/19...\n",
      "INFO:datakit.main:Loading user from database: 12/19...\n",
      "INFO:datakit.main:Loading user from database: 13/19...\n",
      "INFO:datakit.main:Loading user from database: 14/19...\n",
      "INFO:datakit.main:Loading user from database: 15/19...\n",
      "INFO:datakit.main:Loading user from database: 16/19...\n",
      "INFO:datakit.main:Loading user from database: 17/19...\n",
      "INFO:datakit.main:Loading user from database: 18/19...\n",
      "INFO:datakit.main:Loading user from database: 19/19...\n"
     ]
    },
    {
     "name": "stdout",
     "output_type": "stream",
     "text": [
      "1706\n"
     ]
    }
   ],
   "source": [
    "# load all users and find a real one with many coordinates recorded\n",
    "users = itinerum.load_all_users()\n",
    "print(users[2].coordinates.count())\n",
    "test_user = users[2]"
   ]
  },
  {
   "cell_type": "code",
   "execution_count": 7,
   "metadata": {},
   "outputs": [
    {
     "name": "stderr",
     "output_type": "stream",
     "text": [
      "INFO:datakit.main:Processing user (262d601e-afe6-40bb-8a54-0ee41f435fdc) trips: 1/1...\n"
     ]
    }
   ],
   "source": [
    "# run trip detection on user with config parameters\n",
    "parameters = {\n",
    "    'subway_stations': itinerum.database.load_subway_entrances(),\n",
    "    'break_interval_seconds': datakit_config.TRIP_DETECTION_BREAK_INTERVAL_SECONDS,\n",
    "    'subway_buffer_meters': datakit_config.TRIP_DETECTION_SUBWAY_BUFFER_METERS,\n",
    "    'cold_start_distance': datakit_config.TRIP_DETECTION_COLD_START_DISTANCE_METERS,\n",
    "    'accuracy_cutoff_meters': datakit_config.TRIP_DETECTION_ACCURACY_CUTOFF_METERS    \n",
    "}\n",
    "results = itinerum.run_process(itinerum.process.trip_detection.triplab.algorithm, [test_user], parameters)"
   ]
  },
  {
   "cell_type": "code",
   "execution_count": 8,
   "metadata": {},
   "outputs": [],
   "source": [
    "# save detected trips for user\n",
    "trips, summaries = results[test_user]\n",
    "trip_points = []\n",
    "for trip in trips.values():\n",
    "    for point in trip:\n",
    "        point['uuid'] = test_user.uuid\n",
    "        trip_points.append(point)\n",
    "itinerum.database.save_trips(trip_points)\n",
    "\n",
    "# reload user to build trip objects (this should be done automatically by trip detection,\n",
    "# perhaps there should be a wrapper in the .trip_detection module to perform this on all add algorithms)\n",
    "test_user = itinerum.database.load_user(uuid=test_user.uuid)\n",
    "\n",
    "# examine the user's trips\n",
    "test_user.trips"
   ]
  },
  {
   "cell_type": "code",
   "execution_count": 26,
   "metadata": {},
   "outputs": [
    {
     "name": "stdout",
     "output_type": "stream",
     "text": [
      "distance: 7014.487415693539\n",
      "start: 2018-04-26 13:41:07 end: 2018-04-25 22:38:56\n",
      "code: 1\n"
     ]
    }
   ],
   "source": [
    "# examine a trip's attributes\n",
    "test_trip = test_user.trips[2]\n",
    "print('distance:', test_trip.distance)\n",
    "print('start:', test_trip.start_UTC, 'end:', test_trip.end_UTC)\n",
    "print('code:', test_trip.trip_code)"
   ]
  },
  {
   "cell_type": "code",
   "execution_count": null,
   "metadata": {},
   "outputs": [],
   "source": []
  }
 ],
 "metadata": {
  "kernelspec": {
   "display_name": "Python 3",
   "language": "python",
   "name": "python3"
  },
  "language_info": {
   "codemirror_mode": {
    "name": "ipython",
    "version": 3
   },
   "file_extension": ".py",
   "mimetype": "text/x-python",
   "name": "python",
   "nbconvert_exporter": "python",
   "pygments_lexer": "ipython3",
   "version": "3.6.5"
  }
 },
 "nbformat": 4,
 "nbformat_minor": 2
}
