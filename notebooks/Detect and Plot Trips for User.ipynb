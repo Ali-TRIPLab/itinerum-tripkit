{
 "cells": [
  {
   "cell_type": "code",
   "execution_count": 1,
   "metadata": {},
   "outputs": [],
   "source": [
    "# -- Pre-run: change to parent directory for importing library--only run this once!\n",
    "import os\n",
    "import sys\n",
    "module_path = os.path.abspath(os.path.join('..'))\n",
    "os.chdir(module_path)"
   ]
  },
  {
   "cell_type": "code",
   "execution_count": 2,
   "metadata": {},
   "outputs": [],
   "source": [
    "# -- Notebook start\n",
    "import folium\n",
    "import logging\n",
    "\n",
    "from datakit import Itinerum\n",
    "import datakit_config\n",
    "\n",
    "logging.getLogger().setLevel(logging.WARNING)"
   ]
  },
  {
   "cell_type": "code",
   "execution_count": 3,
   "metadata": {},
   "outputs": [],
   "source": [
    "# initialize Itinerum library with config\n",
    "itinerum = Itinerum(config=datakit_config)\n",
    "\n",
    "# read .csvs defined in config if not already available\n",
    "itinerum.setup(force=False)"
   ]
  },
  {
   "cell_type": "code",
   "execution_count": 16,
   "metadata": {},
   "outputs": [
    {
     "data": {
      "text/plain": [
       "{}"
      ]
     },
     "execution_count": 16,
     "metadata": {},
     "output_type": "execute_result"
    }
   ],
   "source": [
    "# load all users and find a real one with many coordinates recorded by ID\n",
    "users = itinerum.load_all_users()\n",
    "\n",
    "test_user = users[2]"
   ]
  },
  {
   "cell_type": "code",
   "execution_count": 6,
   "metadata": {},
   "outputs": [],
   "source": [
    "# run trip detection on user with config parameters\n",
    "parameters = {\n",
    "    'subway_stations': itinerum.database.load_subway_entrances(),\n",
    "    'break_interval_seconds': 120,\n",
    "    'subway_buffer_meters': datakit_config.TRIP_DETECTION_SUBWAY_BUFFER_METERS,\n",
    "    'cold_start_distance': datakit_config.TRIP_DETECTION_COLD_START_DISTANCE_METERS,\n",
    "    'accuracy_cutoff_meters': datakit_config.TRIP_DETECTION_ACCURACY_CUTOFF_METERS    \n",
    "}\n",
    "results = itinerum.run_process(itinerum.process.trip_detection.triplab.algorithm, [test_user], parameters)"
   ]
  },
  {
   "cell_type": "code",
   "execution_count": 7,
   "metadata": {},
   "outputs": [
    {
     "data": {
      "text/plain": [
       "{1: <Trip num=1 code=1>}"
      ]
     },
     "execution_count": 7,
     "metadata": {},
     "output_type": "execute_result"
    }
   ],
   "source": [
    "# save detected trips for user\n",
    "trips, summaries = results[test_user]\n",
    "trip_points = []\n",
    "for trip in trips.values():\n",
    "    for point in trip:\n",
    "        point['uuid'] = test_user.uuid\n",
    "        trip_points.append(point)\n",
    "itinerum.database.save_trips(trip_points)\n",
    "\n",
    "# reload user to build trip objects (this should be done automatically by trip detection,\n",
    "# perhaps there should be a wrapper in the .trip_detection module to perform this on all add algorithms)\n",
    "test_user = itinerum.database.load_user(uuid=test_user.uuid)\n",
    "\n",
    "# examine the user's trips\n",
    "test_user.trips"
   ]
  },
  {
   "cell_type": "code",
   "execution_count": 9,
   "metadata": {},
   "outputs": [
    {
     "name": "stdout",
     "output_type": "stream",
     "text": [
      "distance: 108837.69448774507\n",
      "start: 2018-04-12 16:03:51 end: 2018-04-12 16:09:36\n",
      "code: 1\n"
     ]
    },
    {
     "data": {
      "text/plain": [
       "<Trip num=1 code=1>"
      ]
     },
     "execution_count": 9,
     "metadata": {},
     "output_type": "execute_result"
    }
   ],
   "source": [
    "# examine a trip's attributes\n",
    "test_trip = test_user.trips[1]\n",
    "print('distance:', test_trip.distance)\n",
    "print('start:', test_trip.start_UTC, 'end:', test_trip.end_UTC)\n",
    "print('code:', test_trip.trip_code)\n",
    "test_trip"
   ]
  },
  {
   "cell_type": "code",
   "execution_count": null,
   "metadata": {},
   "outputs": [],
   "source": [
    "# plot trip on map\n",
    "m = folium.Map()\n",
    "coordinates = [(p.latitude, p.longitude) for p in test_trip.points]\n",
    "polyline = folium.PolyLine(locations=coordinates).add_to(m)\n",
    "m.fit_bounds(coordinates)\n",
    "m"
   ]
  },
  {
   "cell_type": "code",
   "execution_count": null,
   "metadata": {},
   "outputs": [],
   "source": [
    "# attempt to map match between various mode networks using OSRM and compare the match quality\n",
    "itinerum.process.map_match.osrm.match(coordinates=test_trip.points, matcher='BIKING')"
   ]
  },
  {
   "cell_type": "code",
   "execution_count": null,
   "metadata": {},
   "outputs": [],
   "source": [
    "# write geojson features\n",
    "## write user coordinates to geojson as points\n",
    "itinerum.io.write_input_geojson(cfg=datakit_config,\n",
    "                                fn_base=str(test_user.uuid),\n",
    "                                coordinates=test_user.coordinates,\n",
    "                                prompts=test_user.prompt_responses,\n",
    "                                cancelled_prompts=test_user.cancelled_prompt_responses)\n",
    "\n",
    "## write user detected trip points and links as linestrings to geojson\n",
    "itinerum.io.write_trips_geojson(cfg=datakit_config, fn_base=str(test_user.uuid), trips=test_user.trips)"
   ]
  },
  {
   "cell_type": "code",
   "execution_count": null,
   "metadata": {},
   "outputs": [],
   "source": []
  }
 ],
 "metadata": {
  "kernelspec": {
   "display_name": "Python 3",
   "language": "python",
   "name": "python3"
  },
  "language_info": {
   "codemirror_mode": {
    "name": "ipython",
    "version": 3
   },
   "file_extension": ".py",
   "mimetype": "text/x-python",
   "name": "python",
   "nbconvert_exporter": "python",
   "pygments_lexer": "ipython3",
   "version": "3.5.2"
  }
 },
 "nbformat": 4,
 "nbformat_minor": 2
}
