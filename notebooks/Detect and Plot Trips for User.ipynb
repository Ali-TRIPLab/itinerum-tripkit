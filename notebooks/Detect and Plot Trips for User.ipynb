{
 "cells": [
  {
   "cell_type": "code",
   "execution_count": 1,
   "metadata": {},
   "outputs": [],
   "source": [
    "# -- Pre-run: change to parent directory for importing library -- only run this once!\n",
    "import os\n",
    "import sys\n",
    "module_path = os.path.abspath(os.path.join('..'))\n",
    "os.chdir(module_path)"
   ]
  },
  {
   "cell_type": "code",
   "execution_count": 2,
   "metadata": {},
   "outputs": [],
   "source": [
    "# -- Notebook start\n",
    "import folium\n",
    "\n",
    "from datakit import Itinerum\n",
    "import datakit_config"
   ]
  },
  {
   "cell_type": "code",
   "execution_count": 3,
   "metadata": {},
   "outputs": [],
   "source": [
    "# initialize Itinerum library with config\n",
    "itinerum = Itinerum(config=datakit_config)\n",
    "\n",
    "# read .csvs defined in config if not already available\n",
    "itinerum.setup(force=False)"
   ]
  },
  {
   "cell_type": "code",
   "execution_count": 4,
   "metadata": {},
   "outputs": [
    {
     "name": "stderr",
     "output_type": "stream",
     "text": [
      "INFO:datakit.main:Loading user from database: 1/19...\n",
      "INFO:datakit.main:Loading user from database: 2/19...\n",
      "INFO:datakit.main:Loading user from database: 3/19...\n",
      "INFO:datakit.main:Loading user from database: 4/19...\n",
      "INFO:datakit.main:Loading user from database: 5/19...\n",
      "INFO:datakit.main:Loading user from database: 6/19...\n",
      "INFO:datakit.main:Loading user from database: 7/19...\n",
      "INFO:datakit.main:Loading user from database: 8/19...\n",
      "INFO:datakit.main:Loading user from database: 9/19...\n",
      "INFO:datakit.main:Loading user from database: 10/19...\n",
      "INFO:datakit.main:Loading user from database: 11/19...\n",
      "INFO:datakit.main:Loading user from database: 12/19...\n",
      "INFO:datakit.main:Loading user from database: 13/19...\n",
      "INFO:datakit.main:Loading user from database: 14/19...\n",
      "INFO:datakit.main:Loading user from database: 15/19...\n",
      "INFO:datakit.main:Loading user from database: 16/19...\n",
      "INFO:datakit.main:Loading user from database: 17/19...\n",
      "INFO:datakit.main:Loading user from database: 18/19...\n",
      "INFO:datakit.main:Loading user from database: 19/19...\n"
     ]
    },
    {
     "name": "stdout",
     "output_type": "stream",
     "text": [
      "122\n"
     ]
    }
   ],
   "source": [
    "# load all users and find a real one with many coordinates recorded\n",
    "users = itinerum.load_all_users()\n",
    "print(users[3].coordinates.count())\n",
    "test_user = users[3]"
   ]
  },
  {
   "cell_type": "code",
   "execution_count": 5,
   "metadata": {},
   "outputs": [
    {
     "name": "stderr",
     "output_type": "stream",
     "text": [
      "INFO:datakit.main:Processing user (26e2ebfe-3154-486d-a3e8-fc05f24af961) trips: 1/1...\n"
     ]
    }
   ],
   "source": [
    "# run trip detection on user with config parameters\n",
    "parameters = {\n",
    "    'subway_stations': itinerum.database.load_subway_entrances(),\n",
    "    'break_interval_seconds': datakit_config.TRIP_DETECTION_BREAK_INTERVAL_SECONDS,\n",
    "    'subway_buffer_meters': datakit_config.TRIP_DETECTION_SUBWAY_BUFFER_METERS,\n",
    "    'cold_start_distance': datakit_config.TRIP_DETECTION_COLD_START_DISTANCE_METERS,\n",
    "    'accuracy_cutoff_meters': datakit_config.TRIP_DETECTION_ACCURACY_CUTOFF_METERS    \n",
    "}\n",
    "results = itinerum.run_process(itinerum.process.trip_detection.triplab.algorithm, [test_user], parameters)"
   ]
  },
  {
   "cell_type": "code",
   "execution_count": 6,
   "metadata": {},
   "outputs": [
    {
     "data": {
      "text/plain": [
       "{1: <Trip num=1>,\n",
       " 2: <Trip num=2>,\n",
       " 3: <Trip num=3>,\n",
       " 4: <Trip num=4>,\n",
       " 5: <Trip num=5>,\n",
       " 6: <Trip num=6>,\n",
       " 7: <Trip num=7>,\n",
       " 8: <Trip num=8>,\n",
       " 9: <Trip num=9>,\n",
       " 10: <Trip num=10>,\n",
       " 11: <Trip num=11>,\n",
       " 12: <Trip num=12>,\n",
       " 13: <Trip num=13>,\n",
       " 14: <Trip num=14>,\n",
       " 15: <Trip num=15>,\n",
       " 16: <Trip num=16>,\n",
       " 17: <Trip num=17>,\n",
       " 18: <Trip num=18>}"
      ]
     },
     "execution_count": 6,
     "metadata": {},
     "output_type": "execute_result"
    }
   ],
   "source": [
    "# save detected trips for user\n",
    "trips, summaries = results[test_user]\n",
    "trip_points = []\n",
    "for trip in trips.values():\n",
    "    for point in trip:\n",
    "        point['uuid'] = test_user.uuid\n",
    "        trip_points.append(point)\n",
    "itinerum.database.save_trips(trip_points)\n",
    "\n",
    "# reload user to build trip objects (this should be done automatically by trip detection,\n",
    "# perhaps there should be a wrapper in the .trip_detection module to perform this on all add algorithms)\n",
    "test_user = itinerum.database.load_user(uuid=test_user.uuid)\n",
    "\n",
    "# examine the user's trips\n",
    "test_user.trips"
   ]
  },
  {
   "cell_type": "code",
   "execution_count": 7,
   "metadata": {},
   "outputs": [
    {
     "name": "stdout",
     "output_type": "stream",
     "text": [
      "distance: 312.7856604104069\n",
      "start: 2018-01-31 21:53:49 end: 2018-01-31 22:00:01\n",
      "code: 1\n"
     ]
    }
   ],
   "source": [
    "# examine a trip's attributes\n",
    "test_trip = test_user.trips[6]\n",
    "print('distance:', test_trip.distance)\n",
    "print('start:', test_trip.start_UTC, 'end:', test_trip.end_UTC)\n",
    "print('code:', test_trip.trip_code)"
   ]
  },
  {
   "cell_type": "code",
   "execution_count": 8,
   "metadata": {},
   "outputs": [
    {
     "data": {
      "text/html": [
       "<div style=\"width:100%;\"><div style=\"position:relative;width:100%;height:0;padding-bottom:60%;\"><iframe src=\"data:text/html;charset=utf-8;base64,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\" style=\"position:absolute;width:100%;height:100%;left:0;top:0;border:none !important;\" allowfullscreen webkitallowfullscreen mozallowfullscreen></iframe></div></div>"
      ],
      "text/plain": [
       "<folium.folium.Map at 0x1110e2be0>"
      ]
     },
     "execution_count": 8,
     "metadata": {},
     "output_type": "execute_result"
    }
   ],
   "source": [
    "# plot trip on map\n",
    "m = folium.Map()\n",
    "coordinates = [(p.latitude, p.longitude) for p in test_trip.points]\n",
    "polyline = folium.PolyLine(locations=coordinates).add_to(m)\n",
    "m.fit_bounds(coordinates)\n",
    "m"
   ]
  },
  {
   "cell_type": "code",
   "execution_count": null,
   "metadata": {},
   "outputs": [],
   "source": []
  }
 ],
 "metadata": {
  "kernelspec": {
   "display_name": "Python 3",
   "language": "python",
   "name": "python3"
  },
  "language_info": {
   "codemirror_mode": {
    "name": "ipython",
    "version": 3
   },
   "file_extension": ".py",
   "mimetype": "text/x-python",
   "name": "python",
   "nbconvert_exporter": "python",
   "pygments_lexer": "ipython3",
   "version": "3.6.5"
  }
 },
 "nbformat": 4,
 "nbformat_minor": 2
}
