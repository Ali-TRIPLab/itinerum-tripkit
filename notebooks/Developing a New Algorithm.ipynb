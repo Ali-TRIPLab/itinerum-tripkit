{
 "cells": [
  {
   "cell_type": "code",
   "execution_count": 1,
   "metadata": {},
   "outputs": [],
   "source": [
    "# -- Pre-run: change to parent directory for importing library -- only run this once!\n",
    "import os\n",
    "import sys\n",
    "module_path = os.path.abspath(os.path.join('..'))\n",
    "os.chdir(module_path)"
   ]
  },
  {
   "cell_type": "code",
   "execution_count": 2,
   "metadata": {},
   "outputs": [],
   "source": [
    "# -- Notebook start\n",
    "import logging\n",
    "\n",
    "from datakit import Itinerum\n",
    "import datakit_config\n",
    "\n",
    "logging.getLogger().setLevel(logging.WARNING)"
   ]
  },
  {
   "cell_type": "code",
   "execution_count": 3,
   "metadata": {},
   "outputs": [],
   "source": [
    "# initialize Itinerum library with config\n",
    "itinerum = Itinerum(config=datakit_config)\n",
    "\n",
    "# read .csvs defined in config if not already available\n",
    "itinerum.setup(force=False)"
   ]
  },
  {
   "cell_type": "code",
   "execution_count": 4,
   "metadata": {},
   "outputs": [
    {
     "name": "stdout",
     "output_type": "stream",
     "text": [
      "122\n"
     ]
    }
   ],
   "source": [
    "# load all users and find a real one with many coordinates recorded\n",
    "users = itinerum.load_all_users()\n",
    "print(users[3].coordinates.count())\n",
    "test_user = users[3]"
   ]
  },
  {
   "cell_type": "code",
   "execution_count": 6,
   "metadata": {},
   "outputs": [],
   "source": [
    "# algorithm can be developed side-by-side with results shown here (reload fron Kernel menu on changes)\n",
    "parameters = {\n",
    "    'subway_entrances': itinerum.database.load_subway_entrances(),\n",
    "    'accuracy_cutoff_meters': 30,\n",
    "    'break_interval_seconds': 300,\n",
    "    'subway_buffer_meters': 200\n",
    "}\n",
    "pts = itinerum.process.trip_detection.triplab.v2.algorithm.run(test_user.coordinates, parameters)"
   ]
  },
  {
   "cell_type": "code",
   "execution_count": 7,
   "metadata": {},
   "outputs": [
    {
     "name": "stdout",
     "output_type": "stream",
     "text": [
      "<datakit.process.trip_detection.triplab.v2.models.TripSegment object at 0x1057702c8>\n",
      "<datakit.process.trip_detection.triplab.v2.models.TripSegment object at 0x105770548>\n",
      "<datakit.process.trip_detection.triplab.v2.models.TripSegment object at 0x105770588>\n",
      "<datakit.process.trip_detection.triplab.v2.models.TripSegment object at 0x1057705c8>\n",
      "<datakit.process.trip_detection.triplab.v2.models.TripSegment object at 0x105770608>\n",
      "<datakit.process.trip_detection.triplab.v2.models.TripSegment object at 0x105770688>\n",
      "<datakit.process.trip_detection.triplab.v2.models.TripSegment object at 0x1057706c8>\n",
      "<datakit.process.trip_detection.triplab.v2.models.TripSegment object at 0x105770708>\n",
      "<datakit.process.trip_detection.triplab.v2.models.TripSegment object at 0x105770748>\n",
      "<datakit.process.trip_detection.triplab.v2.models.TripSegment object at 0x105770648>\n",
      "<datakit.process.trip_detection.triplab.v2.models.TripSegment object at 0x105770788>\n",
      "<datakit.process.trip_detection.triplab.v2.models.TripSegment object at 0x1057707c8>\n",
      "<datakit.process.trip_detection.triplab.v2.models.TripSegment object at 0x105770808>\n",
      "<datakit.process.trip_detection.triplab.v2.models.TripSegment object at 0x105770848>\n",
      "<datakit.process.trip_detection.triplab.v2.models.TripSegment object at 0x105770888>\n",
      "<datakit.process.trip_detection.triplab.v2.models.TripSegment object at 0x1057708c8>\n",
      "<datakit.process.trip_detection.triplab.v2.models.TripSegment object at 0x105770908>\n",
      "<datakit.process.trip_detection.triplab.v2.models.TripSegment object at 0x105770948>\n",
      "<datakit.process.trip_detection.triplab.v2.models.TripSegment object at 0x1057709c8>\n",
      "<datakit.process.trip_detection.triplab.v2.models.TripSegment object at 0x105770a48>\n",
      "<datakit.process.trip_detection.triplab.v2.models.TripSegment object at 0x105770ac8>\n",
      "<datakit.process.trip_detection.triplab.v2.models.TripSegment object at 0x105770b48>\n",
      "<datakit.process.trip_detection.triplab.v2.models.TripSegment object at 0x105770bc8>\n",
      "<datakit.process.trip_detection.triplab.v2.models.TripSegment object at 0x105770c48>\n",
      "<datakit.process.trip_detection.triplab.v2.models.TripSegment object at 0x105770cc8>\n"
     ]
    }
   ],
   "source": [
    "for p in pts:\n",
    "    print(p)"
   ]
  },
  {
   "cell_type": "code",
   "execution_count": null,
   "metadata": {},
   "outputs": [],
   "source": []
  }
 ],
 "metadata": {
  "kernelspec": {
   "display_name": "Python 3",
   "language": "python",
   "name": "python3"
  },
  "language_info": {
   "codemirror_mode": {
    "name": "ipython",
    "version": 3
   },
   "file_extension": ".py",
   "mimetype": "text/x-python",
   "name": "python",
   "nbconvert_exporter": "python",
   "pygments_lexer": "ipython3",
   "version": "3.6.5"
  }
 },
 "nbformat": 4,
 "nbformat_minor": 2
}
