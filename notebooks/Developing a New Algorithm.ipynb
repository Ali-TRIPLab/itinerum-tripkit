{
 "cells": [
  {
   "cell_type": "code",
   "execution_count": 1,
   "metadata": {},
   "outputs": [],
   "source": [
    "# -- Pre-run: change to parent directory for importing library -- only run this once!\n",
    "import os\n",
    "import sys\n",
    "module_path = os.path.abspath(os.path.join('..'))\n",
    "os.chdir(module_path)"
   ]
  },
  {
   "cell_type": "code",
   "execution_count": 2,
   "metadata": {},
   "outputs": [],
   "source": [
    "# -- Notebook start\n",
    "import logging\n",
    "\n",
    "from datakit import Itinerum\n",
    "import datakit_config\n",
    "\n",
    "logging.getLogger().setLevel(logging.WARNING)"
   ]
  },
  {
   "cell_type": "code",
   "execution_count": 3,
   "metadata": {},
   "outputs": [],
   "source": [
    "# initialize Itinerum library with config\n",
    "itinerum = Itinerum(config=datakit_config)\n",
    "\n",
    "# read .csvs defined in config if not already available\n",
    "itinerum.setup(force=False)"
   ]
  },
  {
   "cell_type": "code",
   "execution_count": 4,
   "metadata": {},
   "outputs": [
    {
     "name": "stdout",
     "output_type": "stream",
     "text": [
      "122\n"
     ]
    }
   ],
   "source": [
    "# load all users and find a real one with many coordinates recorded\n",
    "users = itinerum.load_all_users()\n",
    "print(users[3].coordinates.count())\n",
    "test_user = users[3]"
   ]
  },
  {
   "cell_type": "code",
   "execution_count": 5,
   "metadata": {},
   "outputs": [],
   "source": [
    "# algorithm can be developed side-by-side with results shown here (reload fron Kernel menu on changes)\n",
    "parameters = {\n",
    "    'subway_entrances': itinerum.database.load_subway_entrances(),\n",
    "    'accuracy_cutoff_meters': 30,\n",
    "    'break_interval_seconds': 300\n",
    "}\n",
    "pts = itinerum.process.trip_detection.triplab.v2.algorithm.run(test_user.coordinates, parameters)"
   ]
  },
  {
   "cell_type": "code",
   "execution_count": 6,
   "metadata": {},
   "outputs": [
    {
     "name": "stdout",
     "output_type": "stream",
     "text": [
      "<datakit.process.trip_detection.triplab.v2.algorithm.TripSegment object at 0x1084f6e88>\n",
      "<datakit.process.trip_detection.triplab.v2.algorithm.TripSegment object at 0x1084f6ec8>\n",
      "<datakit.process.trip_detection.triplab.v2.algorithm.TripSegment object at 0x1084e9308>\n",
      "<datakit.process.trip_detection.triplab.v2.algorithm.TripSegment object at 0x1084f6f08>\n",
      "<datakit.process.trip_detection.triplab.v2.algorithm.TripSegment object at 0x1084f6f48>\n",
      "<datakit.process.trip_detection.triplab.v2.algorithm.TripSegment object at 0x1084f6fc8>\n",
      "<datakit.process.trip_detection.triplab.v2.algorithm.TripSegment object at 0x1084f6b08>\n",
      "<datakit.process.trip_detection.triplab.v2.algorithm.TripSegment object at 0x1084f6f88>\n",
      "<datakit.process.trip_detection.triplab.v2.algorithm.TripSegment object at 0x108524088>\n",
      "<datakit.process.trip_detection.triplab.v2.algorithm.TripSegment object at 0x1084f6cc8>\n",
      "<datakit.process.trip_detection.triplab.v2.algorithm.TripSegment object at 0x1085243c8>\n",
      "<datakit.process.trip_detection.triplab.v2.algorithm.TripSegment object at 0x108524408>\n",
      "<datakit.process.trip_detection.triplab.v2.algorithm.TripSegment object at 0x108524448>\n",
      "<datakit.process.trip_detection.triplab.v2.algorithm.TripSegment object at 0x108524388>\n",
      "<datakit.process.trip_detection.triplab.v2.algorithm.TripSegment object at 0x1085244c8>\n",
      "<datakit.process.trip_detection.triplab.v2.algorithm.TripSegment object at 0x108524488>\n",
      "<datakit.process.trip_detection.triplab.v2.algorithm.TripSegment object at 0x108524548>\n",
      "<datakit.process.trip_detection.triplab.v2.algorithm.TripSegment object at 0x108524508>\n",
      "<datakit.process.trip_detection.triplab.v2.algorithm.TripSegment object at 0x108524048>\n",
      "<datakit.process.trip_detection.triplab.v2.algorithm.TripSegment object at 0x108524608>\n",
      "<datakit.process.trip_detection.triplab.v2.algorithm.TripSegment object at 0x108524648>\n",
      "<datakit.process.trip_detection.triplab.v2.algorithm.TripSegment object at 0x108524688>\n",
      "<datakit.process.trip_detection.triplab.v2.algorithm.TripSegment object at 0x1085246c8>\n",
      "<datakit.process.trip_detection.triplab.v2.algorithm.TripSegment object at 0x108524588>\n",
      "<datakit.process.trip_detection.triplab.v2.algorithm.TripSegment object at 0x108524748>\n"
     ]
    }
   ],
   "source": [
    "for p in pts:\n",
    "    print(p)"
   ]
  },
  {
   "cell_type": "code",
   "execution_count": null,
   "metadata": {},
   "outputs": [],
   "source": []
  }
 ],
 "metadata": {
  "kernelspec": {
   "display_name": "Python 3",
   "language": "python",
   "name": "python3"
  },
  "language_info": {
   "codemirror_mode": {
    "name": "ipython",
    "version": 3
   },
   "file_extension": ".py",
   "mimetype": "text/x-python",
   "name": "python",
   "nbconvert_exporter": "python",
   "pygments_lexer": "ipython3",
   "version": "3.6.5"
  }
 },
 "nbformat": 4,
 "nbformat_minor": 2
}
